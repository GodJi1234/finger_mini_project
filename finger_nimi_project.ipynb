{
  "nbformat": 4,
  "nbformat_minor": 0,
  "metadata": {
    "colab": {
      "provenance": [],
      "authorship_tag": "ABX9TyOh++YEXgKmRboKyFLQmnqR",
      "include_colab_link": true
    },
    "kernelspec": {
      "name": "python3",
      "display_name": "Python 3"
    },
    "language_info": {
      "name": "python"
    }
  },
  "cells": [
    {
      "cell_type": "markdown",
      "metadata": {
        "id": "view-in-github",
        "colab_type": "text"
      },
      "source": [
        "<a href=\"https://colab.research.google.com/github/JISOO0213/finger_nimi_project/blob/main/finger_nimi_project.ipynb\" target=\"_parent\"><img src=\"https://colab.research.google.com/assets/colab-badge.svg\" alt=\"Open In Colab\"/></a>"
      ]
    },
    {
      "cell_type": "code",
      "execution_count": 1,
      "metadata": {
        "colab": {
          "base_uri": "https://localhost:8080/"
        },
        "id": "yTYPYZRv1NXa",
        "outputId": "63273909-01fe-41ae-fb41-9283ca292f41"
      },
      "outputs": [
        {
          "output_type": "stream",
          "name": "stdout",
          "text": [
            "Looking in indexes: https://pypi.org/simple, https://us-python.pkg.dev/colab-wheels/public/simple/\n",
            "Collecting mediapipe\n",
            "  Downloading mediapipe-0.9.0.1-cp38-cp38-manylinux_2_17_x86_64.manylinux2014_x86_64.whl (33.0 MB)\n",
            "\u001b[K     |████████████████████████████████| 33.0 MB 255 kB/s \n",
            "\u001b[?25hRequirement already satisfied: absl-py in /usr/local/lib/python3.8/dist-packages (from mediapipe) (1.3.0)\n",
            "Requirement already satisfied: protobuf<4,>=3.11 in /usr/local/lib/python3.8/dist-packages (from mediapipe) (3.19.6)\n",
            "Requirement already satisfied: attrs>=19.1.0 in /usr/local/lib/python3.8/dist-packages (from mediapipe) (22.1.0)\n",
            "Requirement already satisfied: opencv-contrib-python in /usr/local/lib/python3.8/dist-packages (from mediapipe) (4.6.0.66)\n",
            "Requirement already satisfied: numpy in /usr/local/lib/python3.8/dist-packages (from mediapipe) (1.21.6)\n",
            "Requirement already satisfied: matplotlib in /usr/local/lib/python3.8/dist-packages (from mediapipe) (3.2.2)\n",
            "Collecting flatbuffers>=2.0\n",
            "  Downloading flatbuffers-22.12.6-py2.py3-none-any.whl (26 kB)\n",
            "Requirement already satisfied: kiwisolver>=1.0.1 in /usr/local/lib/python3.8/dist-packages (from matplotlib->mediapipe) (1.4.4)\n",
            "Requirement already satisfied: pyparsing!=2.0.4,!=2.1.2,!=2.1.6,>=2.0.1 in /usr/local/lib/python3.8/dist-packages (from matplotlib->mediapipe) (3.0.9)\n",
            "Requirement already satisfied: python-dateutil>=2.1 in /usr/local/lib/python3.8/dist-packages (from matplotlib->mediapipe) (2.8.2)\n",
            "Requirement already satisfied: cycler>=0.10 in /usr/local/lib/python3.8/dist-packages (from matplotlib->mediapipe) (0.11.0)\n",
            "Requirement already satisfied: six>=1.5 in /usr/local/lib/python3.8/dist-packages (from python-dateutil>=2.1->matplotlib->mediapipe) (1.15.0)\n",
            "Installing collected packages: flatbuffers, mediapipe\n",
            "  Attempting uninstall: flatbuffers\n",
            "    Found existing installation: flatbuffers 1.12\n",
            "    Uninstalling flatbuffers-1.12:\n",
            "      Successfully uninstalled flatbuffers-1.12\n",
            "\u001b[31mERROR: pip's dependency resolver does not currently take into account all the packages that are installed. This behaviour is the source of the following dependency conflicts.\n",
            "tensorflow 2.9.2 requires flatbuffers<2,>=1.12, but you have flatbuffers 22.12.6 which is incompatible.\u001b[0m\n",
            "Successfully installed flatbuffers-22.12.6 mediapipe-0.9.0.1\n"
          ]
        }
      ],
      "source": [
        "!pip install mediapipe"
      ]
    },
    {
      "cell_type": "code",
      "source": [
        "import cv2\n",
        "import mediapipe as mp\n",
        "import numpy as np\n",
        "mp_drawing = mp.solutions.drawing_utils\n",
        "mp_drawing_styles = mp.solutions.drawing_styles\n",
        "mp_hands = mp.solutions.hands\n",
        "\n",
        "cap = cv2.VideoCapture(0)\n",
        "with mp_hands.Hands(\n",
        "    model_complexity=0,\n",
        "    min_detection_confidence=0.5,\n",
        "    min_tracking_confidence=0.5) as hands:\n",
        "  while cap.isOpened():\n",
        "    success, image = cap.read()\n",
        "    image = cv2.flip(image, 1)\n",
        "    if not success:\n",
        "      print(\"Ignoring empty camera frame.\")\n",
        "      # If loading a video, use 'break' instead of 'continue'.\n",
        "      continue\n",
        "\n",
        "    # To improve performance, optionally mark the image as not writeable to\n",
        "    # pass by reference.\n",
        "    # image.flags.writeable = False\n",
        "    # image = cv2.cvtColor(image, cv2.COLOR_BGR2RGB)\n",
        "    results = hands.process(image)\n",
        "\n",
        "    # Draw the hand annotations on the image.\n",
        "    image.flags.writeable = True\n",
        "\n",
        "    # image = cv2.cvtColor(image, cv2.COLOR_RGB2BGR)\n",
        "    if results.multi_hand_landmarks:\n",
        "      for hand_landmarks in results.multi_hand_landmarks:\n",
        "        joints = np.zeros((5, 4, 3))\n",
        "        mp_drawing.draw_landmarks(\n",
        "            image,\n",
        "            hand_landmarks,\n",
        "            mp_hands.HAND_CONNECTIONS,\n",
        "            mp_drawing_styles.get_default_hand_landmarks_style(),\n",
        "            mp_drawing_styles.get_default_hand_connections_style())\n",
        "        # finger split\n",
        "        for i, lm in enumerate(hand_landmarks.landmark):\n",
        "          if i == 0:\n",
        "            pass\n",
        "          if i % 4 != 0:\n",
        "            joints[i // 4][i % 4 - 1] = (lm.x, lm.y, lm.z)\n",
        "          else:\n",
        "            joints[i // 4 - 1][3] = (lm.x, lm.y, lm.z)\n",
        "\n",
        "        # finger joint\n",
        "        thum = [False, False]\n",
        "        stretch = [False] * 5\n",
        "\n",
        "        # finger up or down\n",
        "        for i in range(1, 5):\n",
        "          if (joints[i][1][1] - joints[i][0][1]) * (joints[i][3][1] - joints[i][2][1]) > 0:\n",
        "            stretch[i] = True\n",
        "\n",
        "        if (joints[0][1][0] - joints[0][0][0]) * (joints[0][3][0] - joints[0][2][0]) > 0:\n",
        "          stretch[0] = True\n",
        "\n",
        "        if (joints[0][1][1] - joints[0][0][1]) * (joints[0][3][1] - joints[0][2][1]) > 0:\n",
        "          thum[0] = True\n",
        "          if joints[0][1][1] - joints[0][0][1] > 0:\n",
        "            thum[1] = True\n",
        "\n",
        "        # finger pose \n",
        "        if stretch[0] and stretch[1] and stretch[4] and not (stretch[2] and stretch[3]):\n",
        "          cv2.putText(image, 'nico-nico-ni >_<', (50, 50), cv2.FONT_HERSHEY_PLAIN, 3, (255, 0, 255), 5, cv2.LINE_AA)\n",
        "        elif stretch[3] and thum[0] and not (stretch[0] and stretch[1] and stretch[2] and stretch[4]):\n",
        "          cv2.putText(image, 'i love you too much', (50, 50), cv2.FONT_HERSHEY_PLAIN, 3, (0, 0, 255), 5, cv2.LINE_AA,)\n",
        "        elif thum[0] and not thum[1] and not (stretch[1] and stretch[2] and stretch[3] and stretch[4]):\n",
        "          cv2.putText(image, 'thum-up', (50, 50), cv2.FONT_HERSHEY_PLAIN, 3, (0, 255, 0), 5, cv2.LINE_AA)\n",
        "        elif thum[0] and thum[1] and not (stretch[1] and stretch[2] and stretch[3] and stretch[4]):\n",
        "          cv2.putText(image, 'YOU DIE', (50, 200), cv2.FONT_HERSHEY_PLAIN, 7, (0, 0, 255), 5, cv2.LINE_AA)\n",
        "\n",
        "    # Flip the image horizontally for a selfie-view display.\n",
        "    cv2.imshow('MediaPipe Hands', image)\n",
        "    if cv2.waitKey(5) & 0xFF == 27:\n",
        "      break\n",
        "cap.release()"
      ],
      "metadata": {
        "id": "ZIg0PoZ41OWf"
      },
      "execution_count": 2,
      "outputs": []
    }
  ]
}